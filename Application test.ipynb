{
 "cells": [
  {
   "cell_type": "code",
   "execution_count": 1,
   "metadata": {},
   "outputs": [],
   "source": [
    "import main"
   ]
  },
  {
   "cell_type": "code",
   "execution_count": 4,
   "metadata": {},
   "outputs": [
    {
     "name": "stderr",
     "output_type": "stream",
     "text": [
      "C:\\Users\\PCOvice\\iCloudDrive\\Oweiss - Festplatte - Kopie\\Studium\\Master\\2. Semester\\Deep Learning NLP\\Project\\main.py:69: UserWarning: tweets must be over or equal to 10. tweets_num is now set to 10.\n",
      "  warnings.warn(\"tweets must be over or equal to 10. tweets_num is now set to 10.\")\n"
     ]
    }
   ],
   "source": [
    "tmp = main.results_json('#LGBTQ', 5)"
   ]
  },
  {
   "cell_type": "code",
   "execution_count": 12,
   "metadata": {},
   "outputs": [
    {
     "data": {
      "text/html": [
       "<div>\n",
       "<style scoped>\n",
       "    .dataframe tbody tr th:only-of-type {\n",
       "        vertical-align: middle;\n",
       "    }\n",
       "\n",
       "    .dataframe tbody tr th {\n",
       "        vertical-align: top;\n",
       "    }\n",
       "\n",
       "    .dataframe thead th {\n",
       "        text-align: right;\n",
       "    }\n",
       "</style>\n",
       "<table border=\"1\" class=\"dataframe\">\n",
       "  <thead>\n",
       "    <tr style=\"text-align: right;\">\n",
       "      <th></th>\n",
       "      <th>text</th>\n",
       "      <th>hate_offensive_predictions</th>\n",
       "      <th>label</th>\n",
       "      <th>is_English</th>\n",
       "    </tr>\n",
       "  </thead>\n",
       "  <tbody>\n",
       "    <tr>\n",
       "      <th>0</th>\n",
       "      <td>RT @mirrorSky2213: พี่อิ่ม: รอพี่ก่อนนะน้ำ 🌻🏳️...</td>\n",
       "      <td>{'hate': 0.1612, 'neither': 0.6794, 'offensive...</td>\n",
       "      <td>{'valence_label': 'likely neither'}</td>\n",
       "      <td>False</td>\n",
       "    </tr>\n",
       "    <tr>\n",
       "      <th>1</th>\n",
       "      <td>RT @GabrielConstans: Curve Magazine, \"Captivat...</td>\n",
       "      <td>{'hate': 0.0059, 'neither': 0.0352, 'offensive...</td>\n",
       "      <td>{'valence_label': 'offensive'}</td>\n",
       "      <td>True</td>\n",
       "    </tr>\n",
       "    <tr>\n",
       "      <th>2</th>\n",
       "      <td>If there is anybody who is intersex or has any...</td>\n",
       "      <td>{'hate': 0.0265, 'neither': 0.7771, 'offensive...</td>\n",
       "      <td>{'valence_label': 'neither'}</td>\n",
       "      <td>True</td>\n",
       "    </tr>\n",
       "    <tr>\n",
       "      <th>3</th>\n",
       "      <td>#thewayhelooks #HojeEuQueroVoltarSozinho #LGBT...</td>\n",
       "      <td>{'hate': 0.2369, 'neither': 0.62, 'offensive':...</td>\n",
       "      <td>{'valence_label': 'likely neither'}</td>\n",
       "      <td>True</td>\n",
       "    </tr>\n",
       "    <tr>\n",
       "      <th>4</th>\n",
       "      <td>RT @DispatcherStour: Today's Photo from the St...</td>\n",
       "      <td>{'hate': 0.2192, 'neither': 0.1496, 'offensive...</td>\n",
       "      <td>{'valence_label': 'neither'}</td>\n",
       "      <td>True</td>\n",
       "    </tr>\n",
       "    <tr>\n",
       "      <th>5</th>\n",
       "      <td>@MattCainWriter @Kickstarter @ArchiveLinden Th...</td>\n",
       "      <td>{'hate': 0.0059, 'neither': 0.0147, 'offensive...</td>\n",
       "      <td>{'valence_label': 'offensive'}</td>\n",
       "      <td>True</td>\n",
       "    </tr>\n",
       "    <tr>\n",
       "      <th>6</th>\n",
       "      <td>RT @mirrorSky2213: พี่อิ่ม: รอพี่ก่อนนะน้ำ 🌻🏳️...</td>\n",
       "      <td>{'hate': 0.1612, 'neither': 0.6794, 'offensive...</td>\n",
       "      <td>{'valence_label': 'likely neither'}</td>\n",
       "      <td>False</td>\n",
       "    </tr>\n",
       "    <tr>\n",
       "      <th>7</th>\n",
       "      <td>Do you already follow me on Instagram? \\n.\\n#l...</td>\n",
       "      <td>{'hate': 0.0108, 'neither': 0.1184, 'offensive...</td>\n",
       "      <td>{'valence_label': 'offensive'}</td>\n",
       "      <td>True</td>\n",
       "    </tr>\n",
       "    <tr>\n",
       "      <th>8</th>\n",
       "      <td>RT @VillaAndProud: 🏳️‍🌈🏳️‍⚧️Lace Up and Speak ...</td>\n",
       "      <td>{'hate': 0.252, 'neither': 0.0668, 'offensive'...</td>\n",
       "      <td>{'valence_label': 'likely offensive'}</td>\n",
       "      <td>True</td>\n",
       "    </tr>\n",
       "    <tr>\n",
       "      <th>9</th>\n",
       "      <td>RT @Bazzio101: @drkerrynphelps @MFWitches #LGB...</td>\n",
       "      <td>{'hate': 0.3234, 'neither': 0.2881, 'offensive...</td>\n",
       "      <td>{'valence_label': 'neither'}</td>\n",
       "      <td>True</td>\n",
       "    </tr>\n",
       "  </tbody>\n",
       "</table>\n",
       "</div>"
      ],
      "text/plain": [
       "                                                text  \\\n",
       "0  RT @mirrorSky2213: พี่อิ่ม: รอพี่ก่อนนะน้ำ 🌻🏳️...   \n",
       "1  RT @GabrielConstans: Curve Magazine, \"Captivat...   \n",
       "2  If there is anybody who is intersex or has any...   \n",
       "3  #thewayhelooks #HojeEuQueroVoltarSozinho #LGBT...   \n",
       "4  RT @DispatcherStour: Today's Photo from the St...   \n",
       "5  @MattCainWriter @Kickstarter @ArchiveLinden Th...   \n",
       "6  RT @mirrorSky2213: พี่อิ่ม: รอพี่ก่อนนะน้ำ 🌻🏳️...   \n",
       "7  Do you already follow me on Instagram? \\n.\\n#l...   \n",
       "8  RT @VillaAndProud: 🏳️‍🌈🏳️‍⚧️Lace Up and Speak ...   \n",
       "9  RT @Bazzio101: @drkerrynphelps @MFWitches #LGB...   \n",
       "\n",
       "                          hate_offensive_predictions  \\\n",
       "0  {'hate': 0.1612, 'neither': 0.6794, 'offensive...   \n",
       "1  {'hate': 0.0059, 'neither': 0.0352, 'offensive...   \n",
       "2  {'hate': 0.0265, 'neither': 0.7771, 'offensive...   \n",
       "3  {'hate': 0.2369, 'neither': 0.62, 'offensive':...   \n",
       "4  {'hate': 0.2192, 'neither': 0.1496, 'offensive...   \n",
       "5  {'hate': 0.0059, 'neither': 0.0147, 'offensive...   \n",
       "6  {'hate': 0.1612, 'neither': 0.6794, 'offensive...   \n",
       "7  {'hate': 0.0108, 'neither': 0.1184, 'offensive...   \n",
       "8  {'hate': 0.252, 'neither': 0.0668, 'offensive'...   \n",
       "9  {'hate': 0.3234, 'neither': 0.2881, 'offensive...   \n",
       "\n",
       "                                   label  is_English  \n",
       "0    {'valence_label': 'likely neither'}       False  \n",
       "1         {'valence_label': 'offensive'}        True  \n",
       "2           {'valence_label': 'neither'}        True  \n",
       "3    {'valence_label': 'likely neither'}        True  \n",
       "4           {'valence_label': 'neither'}        True  \n",
       "5         {'valence_label': 'offensive'}        True  \n",
       "6    {'valence_label': 'likely neither'}       False  \n",
       "7         {'valence_label': 'offensive'}        True  \n",
       "8  {'valence_label': 'likely offensive'}        True  \n",
       "9           {'valence_label': 'neither'}        True  "
      ]
     },
     "execution_count": 12,
     "metadata": {},
     "output_type": "execute_result"
    }
   ],
   "source": [
    "import pandas as pd\n",
    "\n",
    "pd.DataFrame(tmp)"
   ]
  }
 ],
 "metadata": {
  "kernelspec": {
   "display_name": "Python 3",
   "language": "python",
   "name": "python3"
  },
  "language_info": {
   "codemirror_mode": {
    "name": "ipython",
    "version": 3
   },
   "file_extension": ".py",
   "mimetype": "text/x-python",
   "name": "python",
   "nbconvert_exporter": "python",
   "pygments_lexer": "ipython3",
   "version": "3.8.5"
  }
 },
 "nbformat": 4,
 "nbformat_minor": 4
}
